{
 "cells": [
  {
   "cell_type": "code",
   "execution_count": 8,
   "id": "222f3f05-2662-4cf3-8673-cc12f51401e0",
   "metadata": {},
   "outputs": [],
   "source": [
    "import os\n",
    "from glob import glob\n",
    "from functools import reduce\n",
    "from xml.etree import ElementTree as et\n",
    "import pandas as pd"
   ]
  },
  {
   "cell_type": "code",
   "execution_count": 9,
   "id": "945da687-fa80-4393-95ca-fb85d92eb105",
   "metadata": {},
   "outputs": [
    {
     "data": {
      "text/plain": [
       "[]"
      ]
     },
     "execution_count": 9,
     "metadata": {},
     "output_type": "execute_result"
    }
   ],
   "source": [
    "#Load all xml files and store in a list\n",
    "# step1: get path of each xml file\n",
    "xmlfiles = glob('./data_images/*.xml')\n",
    "\n",
    "# data cleaning. replace \\\\ with /\n",
    "replace_text = lambda x: x.replace('\\\\','/')\n",
    "list(map(replace_text,xmlfiles))"
   ]
  },
  {
   "cell_type": "code",
   "execution_count": 10,
   "id": "d00a68f1-c348-49fc-a407-28a195d1eea5",
   "metadata": {},
   "outputs": [],
   "source": [
    "# step2: read xml files\n",
    "# from each xml file we need to extract\n",
    "# filename, size(width, height), object(name, xmin, xmax, ymin, ymax)\n",
    "def extract_text(filename):\n",
    "    tree = et.parse(filename)\n",
    "    root = tree.getroot()\n",
    "    \n",
    "    # extract filename\n",
    "    image_name = root.find('filename').text\n",
    "    #width and height of the image\n",
    "    width = root.find('size').find('width').text\n",
    "    height = root.find('size').find('height').text\n",
    "    objs = root.findall('object')\n",
    "    parser = []\n",
    "    for obj in objs:\n",
    "        name = obj.find('name').text\n",
    "        bndbox = obj.find('bndbox')\n",
    "        xmin = bndbox.find('xmin').text\n",
    "        xmax = bndbox.find('xmax').text\n",
    "        ymin = bndbox.find('ymin').text\n",
    "        ymax = bndbox.find('ymax').text\n",
    "        parser.append([image_name, width, height, name, xmin, xmax, ymin, ymax])\n",
    "\n",
    "    return(parser)"
   ]
  },
  {
   "cell_type": "code",
   "execution_count": 11,
   "id": "efdfdfb6-0cfd-4227-acc6-2f48105ccf9b",
   "metadata": {},
   "outputs": [
    {
     "data": {
      "text/plain": [
       "[]"
      ]
     },
     "execution_count": 11,
     "metadata": {},
     "output_type": "execute_result"
    }
   ],
   "source": [
    "xmlfiles"
   ]
  },
  {
   "cell_type": "code",
   "execution_count": 12,
   "id": "07facb51-c98b-46af-a224-00a4cbce7bca",
   "metadata": {},
   "outputs": [],
   "source": [
    "parser_all = list(map(extract_text,xmlfiles)) "
   ]
  },
  {
   "cell_type": "code",
   "execution_count": 13,
   "id": "4c8139cb-385d-40a0-9513-c13742275793",
   "metadata": {},
   "outputs": [
    {
     "ename": "TypeError",
     "evalue": "reduce() of empty iterable with no initial value",
     "output_type": "error",
     "traceback": [
      "\u001b[1;31m---------------------------------------------------------------------------\u001b[0m",
      "\u001b[1;31mTypeError\u001b[0m                                 Traceback (most recent call last)",
      "Cell \u001b[1;32mIn[13], line 1\u001b[0m\n\u001b[1;32m----> 1\u001b[0m data \u001b[38;5;241m=\u001b[39m \u001b[43mreduce\u001b[49m\u001b[43m(\u001b[49m\u001b[38;5;28;43;01mlambda\u001b[39;49;00m\u001b[43m \u001b[49m\u001b[43mx\u001b[49m\u001b[43m,\u001b[49m\u001b[43my\u001b[49m\u001b[43m \u001b[49m\u001b[43m:\u001b[49m\u001b[43m \u001b[49m\u001b[43mx\u001b[49m\u001b[38;5;241;43m+\u001b[39;49m\u001b[43my\u001b[49m\u001b[43m,\u001b[49m\u001b[43m \u001b[49m\u001b[43mparser_all\u001b[49m\u001b[43m)\u001b[49m\n",
      "\u001b[1;31mTypeError\u001b[0m: reduce() of empty iterable with no initial value"
     ]
    }
   ],
   "source": [
    "data = reduce(lambda x,y : x+y, parser_all)"
   ]
  },
  {
   "cell_type": "code",
   "execution_count": null,
   "id": "c34a68fd-efed-438d-bd64-7cf73234bc1d",
   "metadata": {},
   "outputs": [
    {
     "ename": "NameError",
     "evalue": "name 'data' is not defined",
     "output_type": "error",
     "traceback": [
      "\u001b[1;31m---------------------------------------------------------------------------\u001b[0m",
      "\u001b[1;31mNameError\u001b[0m                                 Traceback (most recent call last)",
      "Cell \u001b[1;32mIn[24], line 1\u001b[0m\n\u001b[1;32m----> 1\u001b[0m df \u001b[38;5;241m=\u001b[39m pd\u001b[38;5;241m.\u001b[39mDataFrame(\u001b[43mdata\u001b[49m,columns \u001b[38;5;241m=\u001b[39m [\u001b[38;5;124m'\u001b[39m\u001b[38;5;124mfilename\u001b[39m\u001b[38;5;124m'\u001b[39m, \u001b[38;5;124m'\u001b[39m\u001b[38;5;124mwidth\u001b[39m\u001b[38;5;124m'\u001b[39m, \u001b[38;5;124m'\u001b[39m\u001b[38;5;124mheight\u001b[39m\u001b[38;5;124m'\u001b[39m, \u001b[38;5;124m'\u001b[39m\u001b[38;5;124mname\u001b[39m\u001b[38;5;124m'\u001b[39m, \u001b[38;5;124m'\u001b[39m\u001b[38;5;124mxmin\u001b[39m\u001b[38;5;124m'\u001b[39m, \u001b[38;5;124m'\u001b[39m\u001b[38;5;124mxmax\u001b[39m\u001b[38;5;124m'\u001b[39m, \u001b[38;5;124m'\u001b[39m\u001b[38;5;124mymin\u001b[39m\u001b[38;5;124m'\u001b[39m, \u001b[38;5;124m'\u001b[39m\u001b[38;5;124mymax\u001b[39m\u001b[38;5;124m'\u001b[39m])\n",
      "\u001b[1;31mNameError\u001b[0m: name 'data' is not defined"
     ]
    }
   ],
   "source": [
    "df = pd.DataFrame(data,columns = ['filename', 'width', 'height', 'name', 'xmin', 'xmax', 'ymin', 'ymax'])"
   ]
  },
  {
   "cell_type": "code",
   "execution_count": null,
   "id": "11165984-25fc-476b-916b-77d491e14bc2",
   "metadata": {},
   "outputs": [
    {
     "ename": "NameError",
     "evalue": "name 'df' is not defined",
     "output_type": "error",
     "traceback": [
      "\u001b[1;31m---------------------------------------------------------------------------\u001b[0m",
      "\u001b[1;31mNameError\u001b[0m                                 Traceback (most recent call last)",
      "Cell \u001b[1;32mIn[25], line 1\u001b[0m\n\u001b[1;32m----> 1\u001b[0m \u001b[43mdf\u001b[49m\u001b[38;5;241m.\u001b[39mhead()\n",
      "\u001b[1;31mNameError\u001b[0m: name 'df' is not defined"
     ]
    }
   ],
   "source": [
    "df.head()"
   ]
  },
  {
   "cell_type": "code",
   "execution_count": null,
   "id": "eb0859ed-7cda-4e2a-aabd-942e135defdf",
   "metadata": {},
   "outputs": [
    {
     "data": {
      "text/plain": [
       "(78, 8)"
      ]
     },
     "execution_count": 16,
     "metadata": {},
     "output_type": "execute_result"
    }
   ],
   "source": [
    "df.shape"
   ]
  },
  {
   "cell_type": "code",
   "execution_count": null,
   "id": "75423b95-c06b-42f8-a9ae-b37e401a5e67",
   "metadata": {},
   "outputs": [
    {
     "data": {
      "text/plain": [
       "name\n",
       "car           59\n",
       "motorcycle    10\n",
       "bus            6\n",
       "truck          3\n",
       "Name: count, dtype: int64"
      ]
     },
     "execution_count": 22,
     "metadata": {},
     "output_type": "execute_result"
    }
   ],
   "source": [
    "df['name'].value_counts()"
   ]
  },
  {
   "cell_type": "code",
   "execution_count": null,
   "id": "74b47656-070a-4b7c-8951-5589fbcc7b95",
   "metadata": {},
   "outputs": [
    {
     "name": "stdout",
     "output_type": "stream",
     "text": [
      "<class 'pandas.core.frame.DataFrame'>\n",
      "RangeIndex: 78 entries, 0 to 77\n",
      "Data columns (total 8 columns):\n",
      " #   Column    Non-Null Count  Dtype \n",
      "---  ------    --------------  ----- \n",
      " 0   filename  78 non-null     object\n",
      " 1   width     78 non-null     object\n",
      " 2   height    78 non-null     object\n",
      " 3   name      78 non-null     object\n",
      " 4   xmin      78 non-null     object\n",
      " 5   xmax      78 non-null     object\n",
      " 6   ymin      78 non-null     object\n",
      " 7   ymax      78 non-null     object\n",
      "dtypes: object(8)\n",
      "memory usage: 5.0+ KB\n"
     ]
    }
   ],
   "source": [
    "df.info()"
   ]
  },
  {
   "cell_type": "code",
   "execution_count": null,
   "id": "e176cdd7-dbdd-4a9b-8855-d422dd7a5b61",
   "metadata": {},
   "outputs": [
    {
     "name": "stdout",
     "output_type": "stream",
     "text": [
      "<class 'pandas.core.frame.DataFrame'>\n",
      "RangeIndex: 78 entries, 0 to 77\n",
      "Data columns (total 8 columns):\n",
      " #   Column    Non-Null Count  Dtype \n",
      "---  ------    --------------  ----- \n",
      " 0   filename  78 non-null     object\n",
      " 1   width     78 non-null     int64 \n",
      " 2   height    78 non-null     int64 \n",
      " 3   name      78 non-null     object\n",
      " 4   xmin      78 non-null     int64 \n",
      " 5   xmax      78 non-null     int64 \n",
      " 6   ymin      78 non-null     int64 \n",
      " 7   ymax      78 non-null     int64 \n",
      "dtypes: int64(6), object(2)\n",
      "memory usage: 5.0+ KB\n"
     ]
    }
   ],
   "source": [
    "# type conversion\n",
    "cols = ['width', 'height', 'xmin', 'xmax', 'ymin', 'ymax']\n",
    "df[cols] = df[cols].astype(int)\n",
    "df.info()"
   ]
  },
  {
   "cell_type": "code",
   "execution_count": null,
   "id": "fe5cb278-0867-49fc-b986-eb3836b035bf",
   "metadata": {},
   "outputs": [],
   "source": [
    "# center x, center y\n",
    "df['center_x'] = ((df['xmax'] + df['xmin'])/2)/df['width']\n",
    "df['center_y'] = ((df['ymax'] + df['ymin'])/2)/df['height']\n",
    "# w\n",
    "df['w'] = (df['xmax'] - df['xmin'])/df['width']\n",
    "# h\n",
    "df['h'] = (df['ymax'] - df['ymin'])/df['height']"
   ]
  },
  {
   "cell_type": "code",
   "execution_count": null,
   "id": "c02287a7-1cc7-4ce3-a73d-8abce75f6deb",
   "metadata": {},
   "outputs": [
    {
     "data": {
      "text/html": [
       "<div>\n",
       "<style scoped>\n",
       "    .dataframe tbody tr th:only-of-type {\n",
       "        vertical-align: middle;\n",
       "    }\n",
       "\n",
       "    .dataframe tbody tr th {\n",
       "        vertical-align: top;\n",
       "    }\n",
       "\n",
       "    .dataframe thead th {\n",
       "        text-align: right;\n",
       "    }\n",
       "</style>\n",
       "<table border=\"1\" class=\"dataframe\">\n",
       "  <thead>\n",
       "    <tr style=\"text-align: right;\">\n",
       "      <th></th>\n",
       "      <th>filename</th>\n",
       "      <th>width</th>\n",
       "      <th>height</th>\n",
       "      <th>name</th>\n",
       "      <th>xmin</th>\n",
       "      <th>xmax</th>\n",
       "      <th>ymin</th>\n",
       "      <th>ymax</th>\n",
       "      <th>center_x</th>\n",
       "      <th>center_y</th>\n",
       "      <th>w</th>\n",
       "      <th>h</th>\n",
       "    </tr>\n",
       "  </thead>\n",
       "  <tbody>\n",
       "    <tr>\n",
       "      <th>0</th>\n",
       "      <td>pic1.jpg</td>\n",
       "      <td>3024</td>\n",
       "      <td>4032</td>\n",
       "      <td>car</td>\n",
       "      <td>946</td>\n",
       "      <td>1246</td>\n",
       "      <td>2959</td>\n",
       "      <td>3250</td>\n",
       "      <td>0.362434</td>\n",
       "      <td>0.769965</td>\n",
       "      <td>0.099206</td>\n",
       "      <td>0.072173</td>\n",
       "    </tr>\n",
       "    <tr>\n",
       "      <th>1</th>\n",
       "      <td>pic1.jpg</td>\n",
       "      <td>3024</td>\n",
       "      <td>4032</td>\n",
       "      <td>motorcycle</td>\n",
       "      <td>286</td>\n",
       "      <td>434</td>\n",
       "      <td>3028</td>\n",
       "      <td>3250</td>\n",
       "      <td>0.119048</td>\n",
       "      <td>0.778522</td>\n",
       "      <td>0.048942</td>\n",
       "      <td>0.055060</td>\n",
       "    </tr>\n",
       "    <tr>\n",
       "      <th>2</th>\n",
       "      <td>pic1.jpg</td>\n",
       "      <td>3024</td>\n",
       "      <td>4032</td>\n",
       "      <td>car</td>\n",
       "      <td>1719</td>\n",
       "      <td>2158</td>\n",
       "      <td>3314</td>\n",
       "      <td>3884</td>\n",
       "      <td>0.641038</td>\n",
       "      <td>0.892609</td>\n",
       "      <td>0.145172</td>\n",
       "      <td>0.141369</td>\n",
       "    </tr>\n",
       "    <tr>\n",
       "      <th>3</th>\n",
       "      <td>pic1.jpg</td>\n",
       "      <td>3024</td>\n",
       "      <td>4032</td>\n",
       "      <td>car</td>\n",
       "      <td>1597</td>\n",
       "      <td>1822</td>\n",
       "      <td>2835</td>\n",
       "      <td>3084</td>\n",
       "      <td>0.565311</td>\n",
       "      <td>0.734003</td>\n",
       "      <td>0.074405</td>\n",
       "      <td>0.061756</td>\n",
       "    </tr>\n",
       "    <tr>\n",
       "      <th>4</th>\n",
       "      <td>pic1.jpg</td>\n",
       "      <td>3024</td>\n",
       "      <td>4032</td>\n",
       "      <td>motorcycle</td>\n",
       "      <td>428</td>\n",
       "      <td>525</td>\n",
       "      <td>2814</td>\n",
       "      <td>2996</td>\n",
       "      <td>0.157573</td>\n",
       "      <td>0.720486</td>\n",
       "      <td>0.032077</td>\n",
       "      <td>0.045139</td>\n",
       "    </tr>\n",
       "  </tbody>\n",
       "</table>\n",
       "</div>"
      ],
      "text/plain": [
       "   filename  width  height        name  xmin  xmax  ymin  ymax  center_x  \\\n",
       "0  pic1.jpg   3024    4032         car   946  1246  2959  3250  0.362434   \n",
       "1  pic1.jpg   3024    4032  motorcycle   286   434  3028  3250  0.119048   \n",
       "2  pic1.jpg   3024    4032         car  1719  2158  3314  3884  0.641038   \n",
       "3  pic1.jpg   3024    4032         car  1597  1822  2835  3084  0.565311   \n",
       "4  pic1.jpg   3024    4032  motorcycle   428   525  2814  2996  0.157573   \n",
       "\n",
       "   center_y         w         h  \n",
       "0  0.769965  0.099206  0.072173  \n",
       "1  0.778522  0.048942  0.055060  \n",
       "2  0.892609  0.145172  0.141369  \n",
       "3  0.734003  0.074405  0.061756  \n",
       "4  0.720486  0.032077  0.045139  "
      ]
     },
     "execution_count": 29,
     "metadata": {},
     "output_type": "execute_result"
    }
   ],
   "source": [
    "df.head()"
   ]
  },
  {
   "cell_type": "code",
   "execution_count": null,
   "id": "4a0812fe-4afd-4419-b256-681f1f08989b",
   "metadata": {},
   "outputs": [],
   "source": [
    "images = df['filename'].unique()"
   ]
  },
  {
   "cell_type": "code",
   "execution_count": null,
   "id": "9944d275-3171-4017-a1cf-20d69ff10488",
   "metadata": {},
   "outputs": [
    {
     "data": {
      "text/plain": [
       "13"
      ]
     },
     "execution_count": 32,
     "metadata": {},
     "output_type": "execute_result"
    }
   ],
   "source": [
    "len(images)"
   ]
  },
  {
   "cell_type": "code",
   "execution_count": null,
   "id": "81a6a530-9fd1-469a-8eb3-5759a58996b7",
   "metadata": {},
   "outputs": [],
   "source": [
    "# 80% train and 20% test\n",
    "img_df = pd.DataFrame(images, columns = ['filename'])\n",
    "img_train = tuple(img_df.sample(frac=0.8)['filename']) # shuffle and pick 80% of images"
   ]
  },
  {
   "cell_type": "code",
   "execution_count": null,
   "id": "48cd24a2-b6d5-40b1-9f79-e46803377758",
   "metadata": {},
   "outputs": [],
   "source": [
    "img_test = tuple(img_df.query(f'filename not in {img_train}')['filename']) # take rest 20% images"
   ]
  },
  {
   "cell_type": "code",
   "execution_count": null,
   "id": "9de3524b-dee4-41ca-89ee-0ff9462b7760",
   "metadata": {},
   "outputs": [
    {
     "data": {
      "text/plain": [
       "(10, 3)"
      ]
     },
     "execution_count": 39,
     "metadata": {},
     "output_type": "execute_result"
    }
   ],
   "source": [
    "len(img_train), len(img_test)"
   ]
  },
  {
   "cell_type": "code",
   "execution_count": null,
   "id": "69ac4aec-c602-4eb8-bec6-451b0594c064",
   "metadata": {},
   "outputs": [],
   "source": [
    "train_df = df.query(f'filename in {img_train}')\n",
    "test_df = df.query(f'filename in {img_test}')\n"
   ]
  },
  {
   "cell_type": "code",
   "execution_count": null,
   "id": "a2b055c3-92f7-4613-9516-a674ebe26a5d",
   "metadata": {},
   "outputs": [
    {
     "data": {
      "text/html": [
       "<div>\n",
       "<style scoped>\n",
       "    .dataframe tbody tr th:only-of-type {\n",
       "        vertical-align: middle;\n",
       "    }\n",
       "\n",
       "    .dataframe tbody tr th {\n",
       "        vertical-align: top;\n",
       "    }\n",
       "\n",
       "    .dataframe thead th {\n",
       "        text-align: right;\n",
       "    }\n",
       "</style>\n",
       "<table border=\"1\" class=\"dataframe\">\n",
       "  <thead>\n",
       "    <tr style=\"text-align: right;\">\n",
       "      <th></th>\n",
       "      <th>filename</th>\n",
       "      <th>width</th>\n",
       "      <th>height</th>\n",
       "      <th>name</th>\n",
       "      <th>xmin</th>\n",
       "      <th>xmax</th>\n",
       "      <th>ymin</th>\n",
       "      <th>ymax</th>\n",
       "      <th>center_x</th>\n",
       "      <th>center_y</th>\n",
       "      <th>w</th>\n",
       "      <th>h</th>\n",
       "    </tr>\n",
       "  </thead>\n",
       "  <tbody>\n",
       "    <tr>\n",
       "      <th>18</th>\n",
       "      <td>pic10.jpg</td>\n",
       "      <td>3024</td>\n",
       "      <td>4032</td>\n",
       "      <td>car</td>\n",
       "      <td>637</td>\n",
       "      <td>982</td>\n",
       "      <td>2554</td>\n",
       "      <td>2808</td>\n",
       "      <td>0.267692</td>\n",
       "      <td>0.664931</td>\n",
       "      <td>0.114087</td>\n",
       "      <td>0.062996</td>\n",
       "    </tr>\n",
       "    <tr>\n",
       "      <th>19</th>\n",
       "      <td>pic10.jpg</td>\n",
       "      <td>3024</td>\n",
       "      <td>4032</td>\n",
       "      <td>car</td>\n",
       "      <td>1057</td>\n",
       "      <td>1496</td>\n",
       "      <td>2511</td>\n",
       "      <td>2927</td>\n",
       "      <td>0.422123</td>\n",
       "      <td>0.674355</td>\n",
       "      <td>0.145172</td>\n",
       "      <td>0.103175</td>\n",
       "    </tr>\n",
       "    <tr>\n",
       "      <th>20</th>\n",
       "      <td>pic11.jpg</td>\n",
       "      <td>3648</td>\n",
       "      <td>5472</td>\n",
       "      <td>car</td>\n",
       "      <td>2335</td>\n",
       "      <td>3176</td>\n",
       "      <td>3604</td>\n",
       "      <td>4134</td>\n",
       "      <td>0.755345</td>\n",
       "      <td>0.707054</td>\n",
       "      <td>0.230537</td>\n",
       "      <td>0.096857</td>\n",
       "    </tr>\n",
       "    <tr>\n",
       "      <th>21</th>\n",
       "      <td>pic11.jpg</td>\n",
       "      <td>3648</td>\n",
       "      <td>5472</td>\n",
       "      <td>car</td>\n",
       "      <td>2138</td>\n",
       "      <td>2622</td>\n",
       "      <td>3510</td>\n",
       "      <td>3899</td>\n",
       "      <td>0.652412</td>\n",
       "      <td>0.676992</td>\n",
       "      <td>0.132675</td>\n",
       "      <td>0.071089</td>\n",
       "    </tr>\n",
       "    <tr>\n",
       "      <th>22</th>\n",
       "      <td>pic12.jpg</td>\n",
       "      <td>2832</td>\n",
       "      <td>4256</td>\n",
       "      <td>car</td>\n",
       "      <td>276</td>\n",
       "      <td>960</td>\n",
       "      <td>3259</td>\n",
       "      <td>3928</td>\n",
       "      <td>0.218220</td>\n",
       "      <td>0.844337</td>\n",
       "      <td>0.241525</td>\n",
       "      <td>0.157190</td>\n",
       "    </tr>\n",
       "  </tbody>\n",
       "</table>\n",
       "</div>"
      ],
      "text/plain": [
       "     filename  width  height name  xmin  xmax  ymin  ymax  center_x  center_y  \\\n",
       "18  pic10.jpg   3024    4032  car   637   982  2554  2808  0.267692  0.664931   \n",
       "19  pic10.jpg   3024    4032  car  1057  1496  2511  2927  0.422123  0.674355   \n",
       "20  pic11.jpg   3648    5472  car  2335  3176  3604  4134  0.755345  0.707054   \n",
       "21  pic11.jpg   3648    5472  car  2138  2622  3510  3899  0.652412  0.676992   \n",
       "22  pic12.jpg   2832    4256  car   276   960  3259  3928  0.218220  0.844337   \n",
       "\n",
       "           w         h  \n",
       "18  0.114087  0.062996  \n",
       "19  0.145172  0.103175  \n",
       "20  0.230537  0.096857  \n",
       "21  0.132675  0.071089  \n",
       "22  0.241525  0.157190  "
      ]
     },
     "execution_count": 41,
     "metadata": {},
     "output_type": "execute_result"
    }
   ],
   "source": [
    "train_df.head()"
   ]
  },
  {
   "cell_type": "code",
   "execution_count": null,
   "id": "571ad659-7fd4-4dd5-a46a-030aa73c2999",
   "metadata": {},
   "outputs": [
    {
     "data": {
      "text/html": [
       "<div>\n",
       "<style scoped>\n",
       "    .dataframe tbody tr th:only-of-type {\n",
       "        vertical-align: middle;\n",
       "    }\n",
       "\n",
       "    .dataframe tbody tr th {\n",
       "        vertical-align: top;\n",
       "    }\n",
       "\n",
       "    .dataframe thead th {\n",
       "        text-align: right;\n",
       "    }\n",
       "</style>\n",
       "<table border=\"1\" class=\"dataframe\">\n",
       "  <thead>\n",
       "    <tr style=\"text-align: right;\">\n",
       "      <th></th>\n",
       "      <th>filename</th>\n",
       "      <th>width</th>\n",
       "      <th>height</th>\n",
       "      <th>name</th>\n",
       "      <th>xmin</th>\n",
       "      <th>xmax</th>\n",
       "      <th>ymin</th>\n",
       "      <th>ymax</th>\n",
       "      <th>center_x</th>\n",
       "      <th>center_y</th>\n",
       "      <th>w</th>\n",
       "      <th>h</th>\n",
       "    </tr>\n",
       "  </thead>\n",
       "  <tbody>\n",
       "    <tr>\n",
       "      <th>0</th>\n",
       "      <td>pic1.jpg</td>\n",
       "      <td>3024</td>\n",
       "      <td>4032</td>\n",
       "      <td>car</td>\n",
       "      <td>946</td>\n",
       "      <td>1246</td>\n",
       "      <td>2959</td>\n",
       "      <td>3250</td>\n",
       "      <td>0.362434</td>\n",
       "      <td>0.769965</td>\n",
       "      <td>0.099206</td>\n",
       "      <td>0.072173</td>\n",
       "    </tr>\n",
       "    <tr>\n",
       "      <th>1</th>\n",
       "      <td>pic1.jpg</td>\n",
       "      <td>3024</td>\n",
       "      <td>4032</td>\n",
       "      <td>motorcycle</td>\n",
       "      <td>286</td>\n",
       "      <td>434</td>\n",
       "      <td>3028</td>\n",
       "      <td>3250</td>\n",
       "      <td>0.119048</td>\n",
       "      <td>0.778522</td>\n",
       "      <td>0.048942</td>\n",
       "      <td>0.055060</td>\n",
       "    </tr>\n",
       "    <tr>\n",
       "      <th>2</th>\n",
       "      <td>pic1.jpg</td>\n",
       "      <td>3024</td>\n",
       "      <td>4032</td>\n",
       "      <td>car</td>\n",
       "      <td>1719</td>\n",
       "      <td>2158</td>\n",
       "      <td>3314</td>\n",
       "      <td>3884</td>\n",
       "      <td>0.641038</td>\n",
       "      <td>0.892609</td>\n",
       "      <td>0.145172</td>\n",
       "      <td>0.141369</td>\n",
       "    </tr>\n",
       "    <tr>\n",
       "      <th>3</th>\n",
       "      <td>pic1.jpg</td>\n",
       "      <td>3024</td>\n",
       "      <td>4032</td>\n",
       "      <td>car</td>\n",
       "      <td>1597</td>\n",
       "      <td>1822</td>\n",
       "      <td>2835</td>\n",
       "      <td>3084</td>\n",
       "      <td>0.565311</td>\n",
       "      <td>0.734003</td>\n",
       "      <td>0.074405</td>\n",
       "      <td>0.061756</td>\n",
       "    </tr>\n",
       "    <tr>\n",
       "      <th>4</th>\n",
       "      <td>pic1.jpg</td>\n",
       "      <td>3024</td>\n",
       "      <td>4032</td>\n",
       "      <td>motorcycle</td>\n",
       "      <td>428</td>\n",
       "      <td>525</td>\n",
       "      <td>2814</td>\n",
       "      <td>2996</td>\n",
       "      <td>0.157573</td>\n",
       "      <td>0.720486</td>\n",
       "      <td>0.032077</td>\n",
       "      <td>0.045139</td>\n",
       "    </tr>\n",
       "  </tbody>\n",
       "</table>\n",
       "</div>"
      ],
      "text/plain": [
       "   filename  width  height        name  xmin  xmax  ymin  ymax  center_x  \\\n",
       "0  pic1.jpg   3024    4032         car   946  1246  2959  3250  0.362434   \n",
       "1  pic1.jpg   3024    4032  motorcycle   286   434  3028  3250  0.119048   \n",
       "2  pic1.jpg   3024    4032         car  1719  2158  3314  3884  0.641038   \n",
       "3  pic1.jpg   3024    4032         car  1597  1822  2835  3084  0.565311   \n",
       "4  pic1.jpg   3024    4032  motorcycle   428   525  2814  2996  0.157573   \n",
       "\n",
       "   center_y         w         h  \n",
       "0  0.769965  0.099206  0.072173  \n",
       "1  0.778522  0.048942  0.055060  \n",
       "2  0.892609  0.145172  0.141369  \n",
       "3  0.734003  0.074405  0.061756  \n",
       "4  0.720486  0.032077  0.045139  "
      ]
     },
     "execution_count": 43,
     "metadata": {},
     "output_type": "execute_result"
    }
   ],
   "source": [
    "test_df.head()"
   ]
  },
  {
   "cell_type": "code",
   "execution_count": null,
   "id": "bb98ecb1-c7be-429c-a9ca-ee91d9ab3778",
   "metadata": {},
   "outputs": [],
   "source": [
    "#Label encoding\n",
    "def label_encoding(x):\n",
    "    labels = {'car':0, 'motorcycle':1, 'truck':2, 'bus':3 }\n",
    "    return labels [x]"
   ]
  },
  {
   "cell_type": "code",
   "execution_count": null,
   "id": "ee1f9da4-0c23-4228-8620-8ccf2c3379a3",
   "metadata": {},
   "outputs": [
    {
     "name": "stderr",
     "output_type": "stream",
     "text": [
      "C:\\Users\\moise\\AppData\\Local\\Temp\\ipykernel_7368\\2390125295.py:1: SettingWithCopyWarning: \n",
      "A value is trying to be set on a copy of a slice from a DataFrame.\n",
      "Try using .loc[row_indexer,col_indexer] = value instead\n",
      "\n",
      "See the caveats in the documentation: https://pandas.pydata.org/pandas-docs/stable/user_guide/indexing.html#returning-a-view-versus-a-copy\n",
      "  train_df['id'] = train_df ['name'].apply(label_encoding)\n",
      "C:\\Users\\moise\\AppData\\Local\\Temp\\ipykernel_7368\\2390125295.py:2: SettingWithCopyWarning: \n",
      "A value is trying to be set on a copy of a slice from a DataFrame.\n",
      "Try using .loc[row_indexer,col_indexer] = value instead\n",
      "\n",
      "See the caveats in the documentation: https://pandas.pydata.org/pandas-docs/stable/user_guide/indexing.html#returning-a-view-versus-a-copy\n",
      "  test_df['id'] = test_df ['name'].apply(label_encoding)\n"
     ]
    }
   ],
   "source": [
    "train_df['id'] = train_df['name'].apply(label_encoding)\n",
    "test_df['id'] = test_df['name'].apply(label_encoding)"
   ]
  },
  {
   "cell_type": "code",
   "execution_count": null,
   "id": "97848574-ced8-40a4-892c-82b2a19bdb2a",
   "metadata": {},
   "outputs": [],
   "source": []
  }
 ],
 "metadata": {
  "kernelspec": {
   "display_name": "yolo_venv",
   "language": "python",
   "name": "python3"
  },
  "language_info": {
   "codemirror_mode": {
    "name": "ipython",
    "version": 3
   },
   "file_extension": ".py",
   "mimetype": "text/x-python",
   "name": "python",
   "nbconvert_exporter": "python",
   "pygments_lexer": "ipython3",
   "version": "3.10.0"
  }
 },
 "nbformat": 4,
 "nbformat_minor": 5
}
