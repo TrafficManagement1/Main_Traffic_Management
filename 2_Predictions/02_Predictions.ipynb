{
 "cells": [
  {
   "cell_type": "code",
   "execution_count": 1,
   "id": "9b5c1dde-8fd8-44f1-8a81-6f78787c68cf",
   "metadata": {},
   "outputs": [],
   "source": [
    "\n",
    "import cv2\n",
    "from yolo_predictions import YOLO_Pred\n"
   ]
  },
  {
   "cell_type": "code",
   "execution_count": 2,
   "id": "fd2dc3d8-ac9a-4614-a0d2-cbcc31fbfcf6",
   "metadata": {},
   "outputs": [],
   "source": [
    "yolo = YOLO_Pred ('./Model10/weights/best.onnx','data.yaml')"
   ]
  },
  {
   "cell_type": "code",
   "execution_count": 3,
   "id": "3d0d7ce0-0db4-4ae7-834a-eea9d7e9506b",
   "metadata": {},
   "outputs": [
    {
     "name": "stdout",
     "output_type": "stream",
     "text": [
      "Detected truck. Total Count: 1\n",
      "Detected truck. Total Count: 2\n"
     ]
    }
   ],
   "source": [
    "cap = cv2.VideoCapture('testvehicle.mp4')\n",
    "\n",
    "\n",
    "while True:\n",
    "    ret, frame = cap.read()\n",
    "    if ret == False:\n",
    "        print('unable to read video')\n",
    "        break\n",
    "        \n",
    "    pred_image = yolo.predictions(frame)\n",
    "    \n",
    "    cv2.imshow('YOLO',pred_image)\n",
    "    if cv2.waitKey(1) == 27:\n",
    "        break\n",
    "        \n",
    "cv2.destroyAllWindows()\n",
    "cap.release()"
   ]
  },
  {
   "cell_type": "code",
   "execution_count": null,
   "id": "52e69e0f-d746-4137-979f-1b5cc0d50465",
   "metadata": {},
   "outputs": [],
   "source": []
  }
 ],
 "metadata": {
  "kernelspec": {
   "display_name": "yolo_venv",
   "language": "python",
   "name": "python3"
  },
  "language_info": {
   "codemirror_mode": {
    "name": "ipython",
    "version": 3
   },
   "file_extension": ".py",
   "mimetype": "text/x-python",
   "name": "python",
   "nbconvert_exporter": "python",
   "pygments_lexer": "ipython3",
   "version": "3.10.0"
  }
 },
 "nbformat": 4,
 "nbformat_minor": 5
}
